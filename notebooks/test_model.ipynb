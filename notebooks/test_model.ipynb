{
 "cells": [
  {
   "cell_type": "code",
   "execution_count": 1,
   "id": "fa84590e",
   "metadata": {},
   "outputs": [],
   "source": [
    "from tools.parser import get_default_parser, get_model_args\n",
    "import torch\n",
    "from models import token_adapter_vit_l16_in1k\n",
    "import torchvision.transforms as transforms"
   ]
  },
  {
   "cell_type": "code",
   "execution_count": 2,
   "id": "ef7fedb9",
   "metadata": {},
   "outputs": [
    {
     "name": "stdout",
     "output_type": "stream",
     "text": [
      "Number of Layers: 24\n",
      "Number of trainable parameters: 304.14M\n",
      "Input shape: torch.Size([1, 3, 64, 64])\n"
     ]
    }
   ],
   "source": [
    "class ModelArgs:\n",
    "    def __init__(self):\n",
    "        self.rh = 0.25\n",
    "        self.rw = 0.25\n",
    "        self.rp_hr= 0.7\n",
    "        self.rp_wr= 0.7\n",
    "        self.l_b= 11\n",
    "        self.l_m= 13\n",
    "        self.l_a= 0\n",
    "        self.threshold= 0.5\n",
    "        self.model = 'token_adapter_vit_l16_in1k'\n",
    "        self.pretrained = False\n",
    "        self.resolution = 64\n",
    "\n",
    "args = ModelArgs()\n",
    "model_args = get_model_args(args)\n",
    "\n",
    "model = token_adapter_vit_l16_in1k(pretrained=args.pretrained, image_size=args.resolution, **model_args)\n",
    "model = model.to('cpu')\n",
    "\n",
    "model.eval()\n",
    "\n",
    "print('Number of Layers:', len(model.encoder.layers))\n",
    "\n",
    "num_params = sum(p.numel() for p in model.parameters() if p.requires_grad)\n",
    "print(f\"Number of trainable parameters: {num_params / 1e6:.2f}M\")\n",
    "\n",
    "\n",
    "trnf = transforms.Compose(\n",
    "    [\n",
    "        transforms.Resize(\n",
    "            args.resolution,\n",
    "            interpolation=transforms.InterpolationMode.BICUBIC,\n",
    "        ),\n",
    "        transforms.CenterCrop(args.resolution),\n",
    "        transforms.ToTensor(),\n",
    "        transforms.Normalize(\n",
    "            mean=[0.485, 0.456, 0.406], std=[0.229, 0.224, 0.225]\n",
    "        ),\n",
    "    ]\n",
    ")\n",
    "\n",
    "from PIL import Image\n",
    "image = Image.open(\"assets/Hourglass_vit_framework.png\").convert(\"RGB\")\n",
    "x = trnf(image).unsqueeze(0)  # shape: [1, 3, H, W]\n",
    "x = x.to('cpu')\n",
    "print(f\"Input shape: {x.shape}\")"
   ]
  },
  {
   "cell_type": "code",
   "execution_count": 3,
   "id": "5207d6f6",
   "metadata": {},
   "outputs": [
    {
     "name": "stdout",
     "output_type": "stream",
     "text": [
      "Original input sequence: torch.Size([1, 17, 1024])\n",
      "Injected token at layer 11: torch.Size([1, 9, 1024])\n",
      "Ejected token at layer 13: torch.Size([1, 16, 1024])\n"
     ]
    }
   ],
   "source": [
    "x_out = model(x)"
   ]
  },
  {
   "cell_type": "code",
   "execution_count": 4,
   "id": "57395e39",
   "metadata": {},
   "outputs": [],
   "source": [
    "# Starting token adapter at layer 11 | torch.Size([1, 4, 4, 1024])\n",
    "# Reduced token shape: torch.Size([1, 9, 1024])\n",
    "# Input token shape at layer 12: torch.Size([1, 10, 1024])\n",
    "# torch.Size([1, 16, 1024]) torch.Size([1, 9, 1024])\n",
    "# distance matrix: torch.Size([1, 16, 9])\n",
    "# Ejecting tokens at layer 13 | token shape: torch.Size([1, 16, 1024])\n",
    "# Post ejector layer torch.Size([1, 17, 1024])\n",
    "# Post ejector layer torch.Size([1, 17, 1024])\n",
    "# Post ejector layer torch.Size([1, 17, 1024])\n",
    "# Post ejector layer torch.Size([1, 17, 1024])\n",
    "# Post ejector layer torch.Size([1, 17, 1024])\n",
    "# Post ejector layer torch.Size([1, 17, 1024])\n",
    "# Post ejector layer torch.Size([1, 17, 1024])\n",
    "# Post ejector layer torch.Size([1, 17, 1024])\n",
    "# Post ejector layer torch.Size([1, 17, 1024])\n",
    "# Post ejector layer torch.Size([1, 17, 1024])"
   ]
  },
  {
   "cell_type": "code",
   "execution_count": null,
   "id": "f15ac9ab",
   "metadata": {},
   "outputs": [],
   "source": []
  }
 ],
 "metadata": {
  "kernelspec": {
   "display_name": "base",
   "language": "python",
   "name": "python3"
  },
  "language_info": {
   "codemirror_mode": {
    "name": "ipython",
    "version": 3
   },
   "file_extension": ".py",
   "mimetype": "text/x-python",
   "name": "python",
   "nbconvert_exporter": "python",
   "pygments_lexer": "ipython3",
   "version": "3.13.2"
  }
 },
 "nbformat": 4,
 "nbformat_minor": 5
}
